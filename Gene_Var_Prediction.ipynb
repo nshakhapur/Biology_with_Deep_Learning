{
  "nbformat": 4,
  "nbformat_minor": 0,
  "metadata": {
    "colab": {
      "name": "Gene_Var_Prediction.ipynb",
      "provenance": [],
      "collapsed_sections": []
    },
    "kernelspec": {
      "name": "python3",
      "display_name": "Python 3"
    },
    "language_info": {
      "name": "python"
    }
  },
  "cells": [
    {
      "cell_type": "code",
      "execution_count": 102,
      "metadata": {
        "id": "PxQOR0HNy2rw"
      },
      "outputs": [],
      "source": [
        ""
      ]
    },
    {
      "cell_type": "markdown",
      "source": [
        "# Genetic Variation Prediction (Benign Or Pathogenic)"
      ],
      "metadata": {
        "id": "8Sx4K88xzGDF"
      }
    },
    {
      "cell_type": "markdown",
      "source": [
        "## Data Preprocessing"
      ],
      "metadata": {
        "id": "YFtr_qtHzWp1"
      }
    },
    {
      "cell_type": "markdown",
      "source": [
        "### Importing the Libraries"
      ],
      "metadata": {
        "id": "SCLopAE-zZ8O"
      }
    },
    {
      "cell_type": "code",
      "source": [
        "import tensorflow as tf\n",
        "import pandas as pd\n",
        "import numpy as np\n",
        "import matplotlib.pyplot as plt"
      ],
      "metadata": {
        "id": "aTlqF3ixzcRt"
      },
      "execution_count": 103,
      "outputs": []
    },
    {
      "cell_type": "markdown",
      "source": [
        "### Importing the dataset"
      ],
      "metadata": {
        "id": "5KhAOrVwzuFS"
      }
    },
    {
      "cell_type": "code",
      "source": [
        "dataset=pd.read_csv('gene_var_1.csv')\n",
        "X=dataset.iloc[:,1:-1].values\n",
        "y=dataset.iloc[:,-1].values"
      ],
      "metadata": {
        "id": "8G72HozEz35r"
      },
      "execution_count": 104,
      "outputs": []
    },
    {
      "cell_type": "code",
      "source": [
        "print(X)"
      ],
      "metadata": {
        "colab": {
          "base_uri": "https://localhost:8080/"
        },
        "id": "gWcCXrJ63wyk",
        "outputId": "e96bb474-4b93-4209-9f74-49d2b38c6778"
      },
      "execution_count": 105,
      "outputs": [
        {
          "output_type": "stream",
          "name": "stdout",
          "text": [
            "[[1 1168180 0.0771 ... 522 174 1]\n",
            " [1 1470752 0.0 ... 509 170 -1]\n",
            " [1 1737942 0.0 ... 239 80 -1]\n",
            " ...\n",
            " [1 55505647 0.0098 ... 137 46 1]\n",
            " [1 55505668 0.0958 ... 158 53 1]\n",
            " [1 55509689 0.0 ... 381 127 1]]\n"
          ]
        }
      ]
    },
    {
      "cell_type": "code",
      "source": [
        "print(y)"
      ],
      "metadata": {
        "id": "UbFT66o33_tA",
        "colab": {
          "base_uri": "https://localhost:8080/"
        },
        "outputId": "8c6f4eac-bcdf-4a2d-dad0-700b810bdd1f"
      },
      "execution_count": 106,
      "outputs": [
        {
          "output_type": "stream",
          "name": "stdout",
          "text": [
            "[0 0 1 0 0 0 0 0 1 0 1 1 0 0 0 0 0 0 0 1 0 1 0 0 0 0 0 0 1 0 1 0 1 0 0 1 0\n",
            " 0 0 0 0 0 0 0 0 0 0 0 1 1 1 0 1 0 1 0 0 0 0 0 0 0 1 0 1 0 1 1 1 0 0 1 0 0\n",
            " 0 0 0 0 0 0 0 0 0 0 0 0 0 0 0 0 1 0 0 0 0 0 1 0 0 0 0 0 0 0 0 1 0 0 0 0 0\n",
            " 0 0 0 0 0 0 0 0 0 0 0 0 0 0 0 0 0 0 0 0 0 0 0 0 0 1 1 0 1 0 0 0 0 0 1 0 0\n",
            " 1 0 0 1 1 0 0 0 1 0 0]\n"
          ]
        }
      ]
    },
    {
      "cell_type": "markdown",
      "source": [
        "### Redefining the coloumns"
      ],
      "metadata": {
        "id": "TrIaI80R4N04"
      }
    },
    {
      "cell_type": "code",
      "source": [
        "print(X)"
      ],
      "metadata": {
        "id": "eIX0o_xq6nPT",
        "colab": {
          "base_uri": "https://localhost:8080/"
        },
        "outputId": "2d72280b-4f49-48f7-b2f5-ac43cb0b0042"
      },
      "execution_count": 107,
      "outputs": [
        {
          "output_type": "stream",
          "name": "stdout",
          "text": [
            "[[1 1168180 0.0771 ... 522 174 1]\n",
            " [1 1470752 0.0 ... 509 170 -1]\n",
            " [1 1737942 0.0 ... 239 80 -1]\n",
            " ...\n",
            " [1 55505647 0.0098 ... 137 46 1]\n",
            " [1 55505668 0.0958 ... 158 53 1]\n",
            " [1 55509689 0.0 ... 381 127 1]]\n"
          ]
        }
      ]
    },
    {
      "cell_type": "code",
      "source": [
        "dataset['Allele'].value_counts()"
      ],
      "metadata": {
        "id": "JIP6sjAe6ve5",
        "colab": {
          "base_uri": "https://localhost:8080/"
        },
        "outputId": "100e878e-bd9a-47a3-f511-cf8211291cf7"
      },
      "execution_count": 108,
      "outputs": [
        {
          "output_type": "execute_result",
          "data": {
            "text/plain": [
              "A    60\n",
              "T    49\n",
              "C    27\n",
              "G    23\n",
              "Name: Allele, dtype: int64"
            ]
          },
          "metadata": {},
          "execution_count": 108
        }
      ]
    },
    {
      "cell_type": "code",
      "source": [
        "from sklearn.preprocessing import LabelEncoder\n",
        "le = LabelEncoder()\n",
        "X[:, 5] = le.fit_transform(X[:, 5])\n"
      ],
      "metadata": {
        "id": "5n8ulIsP62kB"
      },
      "execution_count": 109,
      "outputs": []
    },
    {
      "cell_type": "code",
      "source": [
        "print(X[:,5])"
      ],
      "metadata": {
        "colab": {
          "base_uri": "https://localhost:8080/"
        },
        "id": "akTGXO7o69vN",
        "outputId": "f03db33b-61a3-46d9-e59c-46911071edff"
      },
      "execution_count": 110,
      "outputs": [
        {
          "output_type": "stream",
          "name": "stdout",
          "text": [
            "[1 0 2 0 3 1 1 3 0 0 0 0 3 3 0 3 3 3 0 3 1 0 0 2 0 3 0 0 3 0 0 0 1 0 3 3 0\n",
            " 0 3 1 3 0 1 0 3 1 0 2 2 0 3 3 3 2 3 0 3 3 0 1 3 2 2 3 1 1 3 2 0 3 3 3 1 0\n",
            " 0 0 0 1 1 1 0 3 2 1 1 3 0 0 3 2 1 3 1 1 0 1 2 0 0 0 0 2 0 3 3 0 0 2 2 1 3\n",
            " 2 0 2 0 2 3 1 1 0 2 0 0 3 0 3 0 3 0 3 0 3 0 1 0 2 3 3 0 3 0 1 0 3 3 2 0 3\n",
            " 3 2 0 1 0 2 2 0 3 3 0]\n"
          ]
        }
      ]
    },
    {
      "cell_type": "code",
      "source": [
        "from sklearn.preprocessing import LabelEncoder\n",
        "le = LabelEncoder()\n",
        "X[:, 6] = le.fit_transform(X[:, 6])"
      ],
      "metadata": {
        "id": "eFB9OdwPGIVr"
      },
      "execution_count": 111,
      "outputs": []
    },
    {
      "cell_type": "code",
      "source": [
        "print(X[:,6])"
      ],
      "metadata": {
        "colab": {
          "base_uri": "https://localhost:8080/"
        },
        "id": "KuzLer497LiR",
        "outputId": "c3702f5c-a827-484f-fd2d-85a506177156"
      },
      "execution_count": 112,
      "outputs": [
        {
          "output_type": "stream",
          "name": "stdout",
          "text": [
            "[0 0 0 0 0 0 0 0 0 0 0 0 0 0 0 0 0 0 0 0 0 0 0 0 0 0 0 0 0 0 0 0 0 0 0 0 0\n",
            " 0 0 0 0 0 0 0 0 0 0 0 0 0 0 0 0 0 0 0 0 0 0 0 0 0 0 0 0 0 0 0 0 0 0 0 0 0\n",
            " 0 0 0 0 0 0 0 0 0 0 0 0 0 0 0 0 0 0 0 0 0 0 0 0 0 0 0 0 0 0 0 0 0 0 0 0 0\n",
            " 0 0 0 1 0 0 0 0 1 0 0 1 0 0 0 0 0 0 0 0 0 0 0 0 0 0 0 0 0 0 0 0 0 0 0 0 1\n",
            " 0 0 0 0 1 0 0 0 0 0 0]\n"
          ]
        }
      ]
    },
    {
      "cell_type": "code",
      "source": [
        "from sklearn.preprocessing import LabelEncoder\n",
        "le = LabelEncoder()\n",
        "X[:, 7] = le.fit_transform(X[:, 7])"
      ],
      "metadata": {
        "id": "BXYIQNIEGJ90"
      },
      "execution_count": 113,
      "outputs": []
    },
    {
      "cell_type": "code",
      "source": [
        "print(X[:,7])"
      ],
      "metadata": {
        "colab": {
          "base_uri": "https://localhost:8080/"
        },
        "id": "BXfG3GZX7SN4",
        "outputId": "27176734-28dd-457c-d865-62bc74dd51e9"
      },
      "execution_count": 114,
      "outputs": [
        {
          "output_type": "stream",
          "name": "stdout",
          "text": [
            "[0 0 0 0 0 0 0 0 0 0 0 0 0 0 0 0 0 0 0 0 0 0 0 0 0 0 0 0 0 0 0 0 0 0 0 0 0\n",
            " 0 0 0 0 0 0 0 0 0 0 0 0 0 0 0 0 0 0 0 0 0 0 0 0 0 0 0 0 0 0 0 0 0 0 0 0 0\n",
            " 0 0 0 0 0 0 0 0 0 0 0 0 0 0 0 0 0 0 0 0 0 0 0 0 0 0 0 0 0 0 0 0 0 0 0 0 0\n",
            " 0 0 0 0 0 0 0 0 0 0 0 0 0 0 0 0 0 0 0 0 0 0 0 0 0 0 0 0 0 0 0 0 0 0 0 0 0\n",
            " 0 0 0 0 0 0 0 0 0 0 0]\n"
          ]
        }
      ]
    },
    {
      "cell_type": "code",
      "source": [
        "from sklearn.preprocessing import LabelEncoder\n",
        "le = LabelEncoder()\n",
        "X[:, 8] = le.fit_transform(X[:, 8])"
      ],
      "metadata": {
        "id": "ePRb4l7dGLnS"
      },
      "execution_count": 115,
      "outputs": []
    },
    {
      "cell_type": "code",
      "source": [
        "print(X[:,8])"
      ],
      "metadata": {
        "colab": {
          "base_uri": "https://localhost:8080/"
        },
        "id": "bOOhMWgw7VGx",
        "outputId": "d0a640c9-9851-401f-d51f-f59c9962bcec"
      },
      "execution_count": 116,
      "outputs": [
        {
          "output_type": "stream",
          "name": "stdout",
          "text": [
            "[0 0 0 0 0 0 0 0 0 0 0 0 0 0 0 0 0 0 0 0 0 0 0 0 0 0 0 0 0 0 0 0 0 0 0 0 0\n",
            " 0 0 0 0 0 0 0 0 0 0 0 0 0 0 0 0 0 0 0 0 0 0 0 0 0 0 0 0 0 0 0 0 0 0 0 0 0\n",
            " 0 0 0 0 0 0 0 0 0 0 0 0 0 0 0 0 0 0 0 0 0 0 0 0 0 0 0 0 0 0 0 0 0 0 0 0 0\n",
            " 0 0 0 0 0 0 0 0 0 0 0 0 0 0 0 0 0 0 0 0 0 0 0 0 0 0 0 0 0 0 0 0 0 0 0 0 0\n",
            " 0 0 0 0 0 0 0 0 0 0 0]\n"
          ]
        }
      ]
    },
    {
      "cell_type": "code",
      "source": [
        "print(X[:,5:8])"
      ],
      "metadata": {
        "id": "YE-SfNTTBXZ3",
        "colab": {
          "base_uri": "https://localhost:8080/"
        },
        "outputId": "807e4ac8-46e1-40a1-f8ed-fbca958f0512"
      },
      "execution_count": 117,
      "outputs": [
        {
          "output_type": "stream",
          "name": "stdout",
          "text": [
            "[[1 0 0]\n",
            " [0 0 0]\n",
            " [2 0 0]\n",
            " [0 0 0]\n",
            " [3 0 0]\n",
            " [1 0 0]\n",
            " [1 0 0]\n",
            " [3 0 0]\n",
            " [0 0 0]\n",
            " [0 0 0]\n",
            " [0 0 0]\n",
            " [0 0 0]\n",
            " [3 0 0]\n",
            " [3 0 0]\n",
            " [0 0 0]\n",
            " [3 0 0]\n",
            " [3 0 0]\n",
            " [3 0 0]\n",
            " [0 0 0]\n",
            " [3 0 0]\n",
            " [1 0 0]\n",
            " [0 0 0]\n",
            " [0 0 0]\n",
            " [2 0 0]\n",
            " [0 0 0]\n",
            " [3 0 0]\n",
            " [0 0 0]\n",
            " [0 0 0]\n",
            " [3 0 0]\n",
            " [0 0 0]\n",
            " [0 0 0]\n",
            " [0 0 0]\n",
            " [1 0 0]\n",
            " [0 0 0]\n",
            " [3 0 0]\n",
            " [3 0 0]\n",
            " [0 0 0]\n",
            " [0 0 0]\n",
            " [3 0 0]\n",
            " [1 0 0]\n",
            " [3 0 0]\n",
            " [0 0 0]\n",
            " [1 0 0]\n",
            " [0 0 0]\n",
            " [3 0 0]\n",
            " [1 0 0]\n",
            " [0 0 0]\n",
            " [2 0 0]\n",
            " [2 0 0]\n",
            " [0 0 0]\n",
            " [3 0 0]\n",
            " [3 0 0]\n",
            " [3 0 0]\n",
            " [2 0 0]\n",
            " [3 0 0]\n",
            " [0 0 0]\n",
            " [3 0 0]\n",
            " [3 0 0]\n",
            " [0 0 0]\n",
            " [1 0 0]\n",
            " [3 0 0]\n",
            " [2 0 0]\n",
            " [2 0 0]\n",
            " [3 0 0]\n",
            " [1 0 0]\n",
            " [1 0 0]\n",
            " [3 0 0]\n",
            " [2 0 0]\n",
            " [0 0 0]\n",
            " [3 0 0]\n",
            " [3 0 0]\n",
            " [3 0 0]\n",
            " [1 0 0]\n",
            " [0 0 0]\n",
            " [0 0 0]\n",
            " [0 0 0]\n",
            " [0 0 0]\n",
            " [1 0 0]\n",
            " [1 0 0]\n",
            " [1 0 0]\n",
            " [0 0 0]\n",
            " [3 0 0]\n",
            " [2 0 0]\n",
            " [1 0 0]\n",
            " [1 0 0]\n",
            " [3 0 0]\n",
            " [0 0 0]\n",
            " [0 0 0]\n",
            " [3 0 0]\n",
            " [2 0 0]\n",
            " [1 0 0]\n",
            " [3 0 0]\n",
            " [1 0 0]\n",
            " [1 0 0]\n",
            " [0 0 0]\n",
            " [1 0 0]\n",
            " [2 0 0]\n",
            " [0 0 0]\n",
            " [0 0 0]\n",
            " [0 0 0]\n",
            " [0 0 0]\n",
            " [2 0 0]\n",
            " [0 0 0]\n",
            " [3 0 0]\n",
            " [3 0 0]\n",
            " [0 0 0]\n",
            " [0 0 0]\n",
            " [2 0 0]\n",
            " [2 0 0]\n",
            " [1 0 0]\n",
            " [3 0 0]\n",
            " [2 0 0]\n",
            " [0 0 0]\n",
            " [2 0 0]\n",
            " [0 1 0]\n",
            " [2 0 0]\n",
            " [3 0 0]\n",
            " [1 0 0]\n",
            " [1 0 0]\n",
            " [0 1 0]\n",
            " [2 0 0]\n",
            " [0 0 0]\n",
            " [0 1 0]\n",
            " [3 0 0]\n",
            " [0 0 0]\n",
            " [3 0 0]\n",
            " [0 0 0]\n",
            " [3 0 0]\n",
            " [0 0 0]\n",
            " [3 0 0]\n",
            " [0 0 0]\n",
            " [3 0 0]\n",
            " [0 0 0]\n",
            " [1 0 0]\n",
            " [0 0 0]\n",
            " [2 0 0]\n",
            " [3 0 0]\n",
            " [3 0 0]\n",
            " [0 0 0]\n",
            " [3 0 0]\n",
            " [0 0 0]\n",
            " [1 0 0]\n",
            " [0 0 0]\n",
            " [3 0 0]\n",
            " [3 0 0]\n",
            " [2 0 0]\n",
            " [0 0 0]\n",
            " [3 1 0]\n",
            " [3 0 0]\n",
            " [2 0 0]\n",
            " [0 0 0]\n",
            " [1 0 0]\n",
            " [0 1 0]\n",
            " [2 0 0]\n",
            " [2 0 0]\n",
            " [0 0 0]\n",
            " [3 0 0]\n",
            " [3 0 0]\n",
            " [0 0 0]]\n"
          ]
        }
      ]
    },
    {
      "cell_type": "markdown",
      "source": [
        "### Training and Testing of the dataset"
      ],
      "metadata": {
        "id": "g7TzlRXaAIZ2"
      }
    },
    {
      "cell_type": "code",
      "source": [
        "from sklearn.model_selection import train_test_split\n",
        "X_train, X_test, y_train, y_test = train_test_split(X, y, test_size = 0.2, random_state = 0)"
      ],
      "metadata": {
        "id": "MaXiVkN_AC9t"
      },
      "execution_count": 118,
      "outputs": []
    },
    {
      "cell_type": "markdown",
      "source": [
        "### Feature Scaling"
      ],
      "metadata": {
        "id": "dmFHMlQqASx8"
      }
    },
    {
      "cell_type": "code",
      "source": [
        "from sklearn.preprocessing import StandardScaler\n",
        "sc = StandardScaler()\n",
        "X_train = sc.fit_transform(X_train)\n",
        "X_test = sc.transform(X_test)"
      ],
      "metadata": {
        "id": "kOa2QGcYFmZQ"
      },
      "execution_count": 119,
      "outputs": []
    },
    {
      "cell_type": "markdown",
      "source": [
        "## Building ANN!"
      ],
      "metadata": {
        "id": "5A9_ewlfGrQA"
      }
    },
    {
      "cell_type": "markdown",
      "source": [
        "##Adding Layers"
      ],
      "metadata": {
        "id": "oKsX2IoVGumk"
      }
    },
    {
      "cell_type": "markdown",
      "source": [
        "### Adding Input Layer"
      ],
      "metadata": {
        "id": "tGNj1kOcGyH2"
      }
    },
    {
      "cell_type": "code",
      "source": [
        "ann=tf.keras.models.Sequential()"
      ],
      "metadata": {
        "id": "fCUnn7_OG0Ln"
      },
      "execution_count": 120,
      "outputs": []
    },
    {
      "cell_type": "markdown",
      "source": [
        "### Adding Hidden layer 1"
      ],
      "metadata": {
        "id": "ZVxsNXXxHER0"
      }
    },
    {
      "cell_type": "code",
      "source": [
        "ann.add(tf.keras.layers.Dense(units=6, activation='relu'))"
      ],
      "metadata": {
        "id": "Xnb4K8RHHEJh"
      },
      "execution_count": 121,
      "outputs": []
    },
    {
      "cell_type": "markdown",
      "source": [
        "### Adding Hidden Layer 2"
      ],
      "metadata": {
        "id": "PcM08EYlHVnv"
      }
    },
    {
      "cell_type": "code",
      "source": [
        "ann.add(tf.keras.layers.Dense(units=6, activation='relu'))"
      ],
      "metadata": {
        "id": "GhJG6OtsHDmn"
      },
      "execution_count": 122,
      "outputs": []
    },
    {
      "cell_type": "markdown",
      "source": [
        "### Final Output Layer"
      ],
      "metadata": {
        "id": "n4rG_kKWHa5f"
      }
    },
    {
      "cell_type": "code",
      "source": [
        "ann.add(tf.keras.layers.Dense(units=6, activation='sigmoid'))"
      ],
      "metadata": {
        "id": "7yEvN37JHaZS"
      },
      "execution_count": 123,
      "outputs": []
    },
    {
      "cell_type": "markdown",
      "source": [
        "## Compiling the ANN"
      ],
      "metadata": {
        "id": "CAeQmJktHixb"
      }
    },
    {
      "cell_type": "code",
      "source": [
        "ann.compile(optimizer='adam',loss = tf.keras.losses.SparseCategoricalCrossentropy(from_logits=True), metrics=['accuracy'])"
      ],
      "metadata": {
        "id": "EzTgXhYlHkaW"
      },
      "execution_count": 124,
      "outputs": []
    },
    {
      "cell_type": "code",
      "source": [
        "ann.fit(X_train, y_train, batch_size = 18, epochs = 100)"
      ],
      "metadata": {
        "id": "yzuacUqPHiTN",
        "colab": {
          "base_uri": "https://localhost:8080/"
        },
        "outputId": "c7ac63a7-85a9-4d43-8826-f71276809c1c"
      },
      "execution_count": 125,
      "outputs": [
        {
          "output_type": "stream",
          "name": "stdout",
          "text": [
            "Epoch 1/100\n"
          ]
        },
        {
          "output_type": "stream",
          "name": "stderr",
          "text": [
            "/usr/local/lib/python3.7/dist-packages/tensorflow/python/util/dispatch.py:1082: UserWarning: \"`sparse_categorical_crossentropy` received `from_logits=True`, but the `output` argument was produced by a sigmoid or softmax activation and thus does not represent logits. Was this intended?\"\n",
            "  return dispatch_target(*args, **kwargs)\n"
          ]
        },
        {
          "output_type": "stream",
          "name": "stdout",
          "text": [
            "8/8 [==============================] - 0s 2ms/step - loss: 1.8131 - accuracy: 0.0394\n",
            "Epoch 2/100\n",
            "8/8 [==============================] - 0s 2ms/step - loss: 1.7842 - accuracy: 0.0630\n",
            "Epoch 3/100\n",
            "8/8 [==============================] - 0s 2ms/step - loss: 1.7564 - accuracy: 0.1339\n",
            "Epoch 4/100\n",
            "8/8 [==============================] - 0s 2ms/step - loss: 1.7289 - accuracy: 0.1890\n",
            "Epoch 5/100\n",
            "8/8 [==============================] - 0s 2ms/step - loss: 1.7016 - accuracy: 0.2913\n",
            "Epoch 6/100\n",
            "8/8 [==============================] - 0s 2ms/step - loss: 1.6753 - accuracy: 0.3386\n",
            "Epoch 7/100\n",
            "8/8 [==============================] - 0s 2ms/step - loss: 1.6490 - accuracy: 0.4094\n",
            "Epoch 8/100\n",
            "8/8 [==============================] - 0s 2ms/step - loss: 1.6225 - accuracy: 0.4488\n",
            "Epoch 9/100\n",
            "8/8 [==============================] - 0s 2ms/step - loss: 1.5938 - accuracy: 0.4882\n",
            "Epoch 10/100\n",
            "8/8 [==============================] - 0s 2ms/step - loss: 1.5636 - accuracy: 0.5118\n",
            "Epoch 11/100\n",
            "8/8 [==============================] - 0s 2ms/step - loss: 1.5334 - accuracy: 0.5354\n",
            "Epoch 12/100\n",
            "8/8 [==============================] - 0s 2ms/step - loss: 1.5024 - accuracy: 0.5197\n",
            "Epoch 13/100\n",
            "8/8 [==============================] - 0s 2ms/step - loss: 1.4713 - accuracy: 0.5512\n",
            "Epoch 14/100\n",
            "8/8 [==============================] - 0s 2ms/step - loss: 1.4384 - accuracy: 0.5433\n",
            "Epoch 15/100\n",
            "8/8 [==============================] - 0s 2ms/step - loss: 1.4030 - accuracy: 0.5433\n",
            "Epoch 16/100\n",
            "8/8 [==============================] - 0s 2ms/step - loss: 1.3654 - accuracy: 0.5984\n",
            "Epoch 17/100\n",
            "8/8 [==============================] - 0s 2ms/step - loss: 1.3258 - accuracy: 0.5984\n",
            "Epoch 18/100\n",
            "8/8 [==============================] - 0s 2ms/step - loss: 1.2855 - accuracy: 0.6693\n",
            "Epoch 19/100\n",
            "8/8 [==============================] - 0s 2ms/step - loss: 1.2413 - accuracy: 0.7008\n",
            "Epoch 20/100\n",
            "8/8 [==============================] - 0s 2ms/step - loss: 1.1963 - accuracy: 0.7244\n",
            "Epoch 21/100\n",
            "8/8 [==============================] - 0s 2ms/step - loss: 1.1497 - accuracy: 0.7480\n",
            "Epoch 22/100\n",
            "8/8 [==============================] - 0s 2ms/step - loss: 1.1016 - accuracy: 0.7874\n",
            "Epoch 23/100\n",
            "8/8 [==============================] - 0s 2ms/step - loss: 1.0531 - accuracy: 0.7953\n",
            "Epoch 24/100\n",
            "8/8 [==============================] - 0s 2ms/step - loss: 1.0065 - accuracy: 0.7953\n",
            "Epoch 25/100\n",
            "8/8 [==============================] - 0s 2ms/step - loss: 0.9630 - accuracy: 0.7953\n",
            "Epoch 26/100\n",
            "8/8 [==============================] - 0s 2ms/step - loss: 0.9182 - accuracy: 0.7953\n",
            "Epoch 27/100\n",
            "8/8 [==============================] - 0s 2ms/step - loss: 0.8774 - accuracy: 0.7953\n",
            "Epoch 28/100\n",
            "8/8 [==============================] - 0s 2ms/step - loss: 0.8388 - accuracy: 0.7953\n",
            "Epoch 29/100\n",
            "8/8 [==============================] - 0s 3ms/step - loss: 0.8047 - accuracy: 0.7953\n",
            "Epoch 30/100\n",
            "8/8 [==============================] - 0s 2ms/step - loss: 0.7735 - accuracy: 0.7953\n",
            "Epoch 31/100\n",
            "8/8 [==============================] - 0s 2ms/step - loss: 0.7488 - accuracy: 0.7953\n",
            "Epoch 32/100\n",
            "8/8 [==============================] - 0s 2ms/step - loss: 0.7246 - accuracy: 0.7953\n",
            "Epoch 33/100\n",
            "8/8 [==============================] - 0s 2ms/step - loss: 0.7032 - accuracy: 0.7953\n",
            "Epoch 34/100\n",
            "8/8 [==============================] - 0s 2ms/step - loss: 0.6836 - accuracy: 0.7953\n",
            "Epoch 35/100\n",
            "8/8 [==============================] - 0s 2ms/step - loss: 0.6667 - accuracy: 0.7953\n",
            "Epoch 36/100\n",
            "8/8 [==============================] - 0s 2ms/step - loss: 0.6535 - accuracy: 0.7953\n",
            "Epoch 37/100\n",
            "8/8 [==============================] - 0s 2ms/step - loss: 0.6401 - accuracy: 0.7953\n",
            "Epoch 38/100\n",
            "8/8 [==============================] - 0s 2ms/step - loss: 0.6292 - accuracy: 0.7953\n",
            "Epoch 39/100\n",
            "8/8 [==============================] - 0s 2ms/step - loss: 0.6197 - accuracy: 0.7953\n",
            "Epoch 40/100\n",
            "8/8 [==============================] - 0s 4ms/step - loss: 0.6126 - accuracy: 0.7953\n",
            "Epoch 41/100\n",
            "8/8 [==============================] - 0s 3ms/step - loss: 0.6037 - accuracy: 0.7953\n",
            "Epoch 42/100\n",
            "8/8 [==============================] - 0s 2ms/step - loss: 0.5986 - accuracy: 0.7953\n",
            "Epoch 43/100\n",
            "8/8 [==============================] - 0s 2ms/step - loss: 0.5915 - accuracy: 0.7953\n",
            "Epoch 44/100\n",
            "8/8 [==============================] - 0s 2ms/step - loss: 0.5853 - accuracy: 0.7953\n",
            "Epoch 45/100\n",
            "8/8 [==============================] - 0s 2ms/step - loss: 0.5794 - accuracy: 0.7953\n",
            "Epoch 46/100\n",
            "8/8 [==============================] - 0s 2ms/step - loss: 0.5742 - accuracy: 0.7953\n",
            "Epoch 47/100\n",
            "8/8 [==============================] - 0s 2ms/step - loss: 0.5689 - accuracy: 0.7953\n",
            "Epoch 48/100\n",
            "8/8 [==============================] - 0s 2ms/step - loss: 0.5643 - accuracy: 0.7953\n",
            "Epoch 49/100\n",
            "8/8 [==============================] - 0s 2ms/step - loss: 0.5601 - accuracy: 0.7953\n",
            "Epoch 50/100\n",
            "8/8 [==============================] - 0s 2ms/step - loss: 0.5561 - accuracy: 0.7953\n",
            "Epoch 51/100\n",
            "8/8 [==============================] - 0s 2ms/step - loss: 0.5526 - accuracy: 0.7953\n",
            "Epoch 52/100\n",
            "8/8 [==============================] - 0s 2ms/step - loss: 0.5499 - accuracy: 0.7953\n",
            "Epoch 53/100\n",
            "8/8 [==============================] - 0s 2ms/step - loss: 0.5472 - accuracy: 0.7953\n",
            "Epoch 54/100\n",
            "8/8 [==============================] - 0s 2ms/step - loss: 0.5449 - accuracy: 0.7953\n",
            "Epoch 55/100\n",
            "8/8 [==============================] - 0s 2ms/step - loss: 0.5430 - accuracy: 0.7953\n",
            "Epoch 56/100\n",
            "8/8 [==============================] - 0s 2ms/step - loss: 0.5392 - accuracy: 0.7953\n",
            "Epoch 57/100\n",
            "8/8 [==============================] - 0s 2ms/step - loss: 0.5371 - accuracy: 0.7953\n",
            "Epoch 58/100\n",
            "8/8 [==============================] - 0s 2ms/step - loss: 0.5349 - accuracy: 0.7953\n",
            "Epoch 59/100\n",
            "8/8 [==============================] - 0s 2ms/step - loss: 0.5332 - accuracy: 0.7953\n",
            "Epoch 60/100\n",
            "8/8 [==============================] - 0s 2ms/step - loss: 0.5311 - accuracy: 0.7953\n",
            "Epoch 61/100\n",
            "8/8 [==============================] - 0s 2ms/step - loss: 0.5300 - accuracy: 0.7953\n",
            "Epoch 62/100\n",
            "8/8 [==============================] - 0s 2ms/step - loss: 0.5274 - accuracy: 0.7953\n",
            "Epoch 63/100\n",
            "8/8 [==============================] - 0s 2ms/step - loss: 0.5258 - accuracy: 0.7953\n",
            "Epoch 64/100\n",
            "8/8 [==============================] - 0s 2ms/step - loss: 0.5243 - accuracy: 0.7953\n",
            "Epoch 65/100\n",
            "8/8 [==============================] - 0s 2ms/step - loss: 0.5225 - accuracy: 0.7953\n",
            "Epoch 66/100\n",
            "8/8 [==============================] - 0s 2ms/step - loss: 0.5226 - accuracy: 0.7953\n",
            "Epoch 67/100\n",
            "8/8 [==============================] - 0s 2ms/step - loss: 0.5207 - accuracy: 0.7953\n",
            "Epoch 68/100\n",
            "8/8 [==============================] - 0s 2ms/step - loss: 0.5190 - accuracy: 0.7953\n",
            "Epoch 69/100\n",
            "8/8 [==============================] - 0s 2ms/step - loss: 0.5195 - accuracy: 0.7953\n",
            "Epoch 70/100\n",
            "8/8 [==============================] - 0s 2ms/step - loss: 0.5186 - accuracy: 0.7953\n",
            "Epoch 71/100\n",
            "8/8 [==============================] - 0s 2ms/step - loss: 0.5165 - accuracy: 0.7953\n",
            "Epoch 72/100\n",
            "8/8 [==============================] - 0s 3ms/step - loss: 0.5147 - accuracy: 0.7953\n",
            "Epoch 73/100\n",
            "8/8 [==============================] - 0s 2ms/step - loss: 0.5131 - accuracy: 0.7953\n",
            "Epoch 74/100\n",
            "8/8 [==============================] - 0s 2ms/step - loss: 0.5121 - accuracy: 0.7953\n",
            "Epoch 75/100\n",
            "8/8 [==============================] - 0s 2ms/step - loss: 0.5106 - accuracy: 0.7953\n",
            "Epoch 76/100\n",
            "8/8 [==============================] - 0s 2ms/step - loss: 0.5088 - accuracy: 0.7953\n",
            "Epoch 77/100\n",
            "8/8 [==============================] - 0s 2ms/step - loss: 0.5073 - accuracy: 0.7953\n",
            "Epoch 78/100\n",
            "8/8 [==============================] - 0s 2ms/step - loss: 0.5062 - accuracy: 0.7953\n",
            "Epoch 79/100\n",
            "8/8 [==============================] - 0s 2ms/step - loss: 0.5055 - accuracy: 0.7953\n",
            "Epoch 80/100\n",
            "8/8 [==============================] - 0s 2ms/step - loss: 0.5044 - accuracy: 0.7953\n",
            "Epoch 81/100\n",
            "8/8 [==============================] - 0s 2ms/step - loss: 0.5037 - accuracy: 0.7953\n",
            "Epoch 82/100\n",
            "8/8 [==============================] - 0s 2ms/step - loss: 0.5027 - accuracy: 0.7953\n",
            "Epoch 83/100\n",
            "8/8 [==============================] - 0s 2ms/step - loss: 0.5014 - accuracy: 0.7953\n",
            "Epoch 84/100\n",
            "8/8 [==============================] - 0s 2ms/step - loss: 0.5007 - accuracy: 0.7953\n",
            "Epoch 85/100\n",
            "8/8 [==============================] - 0s 2ms/step - loss: 0.5001 - accuracy: 0.7953\n",
            "Epoch 86/100\n",
            "8/8 [==============================] - 0s 2ms/step - loss: 0.4996 - accuracy: 0.7953\n",
            "Epoch 87/100\n",
            "8/8 [==============================] - 0s 2ms/step - loss: 0.4991 - accuracy: 0.7953\n",
            "Epoch 88/100\n",
            "8/8 [==============================] - 0s 3ms/step - loss: 0.4978 - accuracy: 0.7953\n",
            "Epoch 89/100\n",
            "8/8 [==============================] - 0s 2ms/step - loss: 0.4966 - accuracy: 0.7953\n",
            "Epoch 90/100\n",
            "8/8 [==============================] - 0s 2ms/step - loss: 0.4960 - accuracy: 0.7953\n",
            "Epoch 91/100\n",
            "8/8 [==============================] - 0s 2ms/step - loss: 0.4949 - accuracy: 0.7953\n",
            "Epoch 92/100\n",
            "8/8 [==============================] - 0s 2ms/step - loss: 0.4943 - accuracy: 0.7953\n",
            "Epoch 93/100\n",
            "8/8 [==============================] - 0s 2ms/step - loss: 0.4935 - accuracy: 0.7953\n",
            "Epoch 94/100\n",
            "8/8 [==============================] - 0s 2ms/step - loss: 0.4933 - accuracy: 0.7953\n",
            "Epoch 95/100\n",
            "8/8 [==============================] - 0s 2ms/step - loss: 0.4939 - accuracy: 0.7953\n",
            "Epoch 96/100\n",
            "8/8 [==============================] - 0s 2ms/step - loss: 0.4930 - accuracy: 0.7953\n",
            "Epoch 97/100\n",
            "8/8 [==============================] - 0s 2ms/step - loss: 0.4943 - accuracy: 0.7953\n",
            "Epoch 98/100\n",
            "8/8 [==============================] - 0s 2ms/step - loss: 0.4949 - accuracy: 0.7953\n",
            "Epoch 99/100\n",
            "8/8 [==============================] - 0s 2ms/step - loss: 0.4949 - accuracy: 0.7953\n",
            "Epoch 100/100\n",
            "8/8 [==============================] - 0s 2ms/step - loss: 0.4937 - accuracy: 0.7953\n"
          ]
        },
        {
          "output_type": "execute_result",
          "data": {
            "text/plain": [
              "<keras.callbacks.History at 0x7f0c5889ed50>"
            ]
          },
          "metadata": {},
          "execution_count": 125
        }
      ]
    },
    {
      "cell_type": "code",
      "source": [
        "y_pred = ann.predict(X_test)\n"
      ],
      "metadata": {
        "id": "PpUMvAXc8tGY"
      },
      "execution_count": 126,
      "outputs": []
    },
    {
      "cell_type": "code",
      "source": [
        "y_pred2 = []\n",
        "answers = []\n",
        "for i in y_pred:\n",
        "    for j in i:\n",
        "        if j>=0.5:\n",
        "            y_pred2.append(1)\n",
        "        else:\n",
        "            y_pred2.append(0)"
      ],
      "metadata": {
        "id": "wZZCbaRnGb7h"
      },
      "execution_count": 127,
      "outputs": []
    },
    {
      "cell_type": "code",
      "source": [
        "from sklearn.ensemble import RandomForestClassifier\n",
        "model = RandomForestClassifier(criterion='entropy',n_estimators=50,random_state=0)\n",
        "model.fit(X_train,y_train.ravel())"
      ],
      "metadata": {
        "colab": {
          "base_uri": "https://localhost:8080/"
        },
        "id": "WC3CpE87GTwX",
        "outputId": "12840097-853f-4e17-c1f5-92bc2caca190"
      },
      "execution_count": 128,
      "outputs": [
        {
          "output_type": "execute_result",
          "data": {
            "text/plain": [
              "RandomForestClassifier(criterion='entropy', n_estimators=50, random_state=0)"
            ]
          },
          "metadata": {},
          "execution_count": 128
        }
      ]
    },
    {
      "cell_type": "code",
      "source": [
        "y_pred_forest = model.predict(X_test)"
      ],
      "metadata": {
        "id": "T8bDHZqIGUTz"
      },
      "execution_count": 129,
      "outputs": []
    },
    {
      "cell_type": "code",
      "source": [
        "from sklearn.metrics import accuracy_score\n",
        "print(\"Accuracy: \",round(accuracy_score(y_test,y_pred_forest)*100,2),\"%\")"
      ],
      "metadata": {
        "colab": {
          "base_uri": "https://localhost:8080/"
        },
        "id": "tDBY80_6GWjA",
        "outputId": "a45d412f-4e7f-407b-cc00-94c1200c8e6b"
      },
      "execution_count": 130,
      "outputs": [
        {
          "output_type": "stream",
          "name": "stdout",
          "text": [
            "Accuracy:  84.38 %\n"
          ]
        }
      ]
    }
  ]
}